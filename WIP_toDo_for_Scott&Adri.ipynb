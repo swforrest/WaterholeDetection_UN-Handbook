{
 "cells": [
  {
   "cell_type": "raw",
   "id": "c0f2672d",
   "metadata": {
    "vscode": {
     "languageId": "raw"
    }
   },
   "source": [
    "---\n",
    "title: \"Work In Porgress/To Do\"\n",
    "author:\n",
    "  - name: Adriano Fossati\n",
    "    url: https://github.com/AdrianoGuidoF\n",
    "    orcid: 0009-0008-9751-4599\n",
    "    affiliation: Queensland University of Technology\n",
    "    email: \"afossati.academia@gmail.com\"\n",
    "date: today\n",
    "format:\n",
    "    html:\n",
    "        toc: true\n",
    "        number_sections: true\n",
    "        code-fold: true # to hide the code by default, but have the option to show it\n",
    "        # code-fold: show # to show the code by default, but have the option to hide it\n",
    "        code-tools: true\n",
    "        code-summary: \"Show the code\"\n",
    "        code-overflow: scroll\n",
    "        # embed-resources: true\n",
    "        css: styles.css\n",
    "# bibliography: references.bib\n",
    "abstract: |\n",
    "  List for the website development/comments sharing  \n",
    "---"
   ]
  },
  {
   "cell_type": "markdown",
   "id": "baeee36a",
   "metadata": {},
   "source": [
    "Hi Scott, thought we could use this page as a work in progress kind of to do list on the actual website so we can communicate easily and keep track of our ideas. "
   ]
  },
  {
   "cell_type": "markdown",
   "id": "035db7fb",
   "metadata": {},
   "source": [
    "# List of thoughts\n",
    "- How to share image to be able to run the code chunks on another machine and test out our workflow? \n",
    "- "
   ]
  },
  {
   "cell_type": "markdown",
   "id": "968ed443",
   "metadata": {},
   "source": [
    "# To Do: \n",
    "- Decide if we stick to the GEE Images aquirement or if we go with the Planet API workflow. Change the website page accordingly\n",
    "- "
   ]
  }
 ],
 "metadata": {
  "language_info": {
   "name": "python"
  }
 },
 "nbformat": 4,
 "nbformat_minor": 5
}
