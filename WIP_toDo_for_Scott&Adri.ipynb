{
 "cells": [
  {
   "cell_type": "raw",
   "id": "c0f2672d",
   "metadata": {
    "vscode": {
     "languageId": "raw"
    }
   },
   "source": [
    "---\n",
    "title: \"Work In Progress/To Do\"\n",
    "author:\n",
    "  - name: Adriano Fossati\n",
    "    url: https://github.com/AdrianoGuidoF\n",
    "    orcid: 0009-0008-9751-4599\n",
    "    affiliation: Queensland University of Technology\n",
    "    email: \"afossati.academia@gmail.com\"\n",
    "date: today\n",
    "format:\n",
    "    html:\n",
    "        toc: true\n",
    "        number_sections: true\n",
    "        code-fold: true # to hide the code by default, but have the option to show it\n",
    "        # code-fold: show # to show the code by default, but have the option to hide it\n",
    "        code-tools: true\n",
    "        code-summary: \"Show the code\"\n",
    "        code-overflow: scroll\n",
    "        # embed-resources: true\n",
    "        css: styles.css\n",
    "# bibliography: references.bib\n",
    "abstract: |\n",
    "  List for the website development/comments sharing  \n",
    "---"
   ]
  },
  {
   "cell_type": "markdown",
   "id": "6645930b",
   "metadata": {},
   "source": [
    "# To Do list: \n",
    "- Clearly define the categories for the manual annotation? or clear enough with the handbook? Refer to it to be safe. \n",
    "- All inserts of images or gifs are indicated by multiple capital XXXX"
   ]
  },
  {
   "cell_type": "markdown",
   "id": "ade14c2d",
   "metadata": {},
   "source": [
    "# Work in Progress list: \n",
    "- I have everywhere in this website absolute paths to my folders. Would rather avoid this to be in public. Shall we find some sort of solution to avoid it? Like a \"nickname\" for your abspath to replace everywhere? \n",
    "- \"Getting started\" was designed for the GitHub project repository, not the UN website. Might need to simplify a bit the whole detailed section.  \n",
    "- Figure out if we stick to the Sentinel of Planet api proceedure, particularly given we provide the sample image\n",
    "- The 5th section of the Home page, is \"Further Analysis WIP\", but we don't have the code ready for that so we can't really accurately provide something there. While I worked on it we only stopped at the end of the testing of the trained model. This means we have to mention it and provide future resources or text describing what comes after the testing I guess. \n",
    "- Should we have us both as authors in each sections or as in a bottom foot/side page section? Would look better and more fair of the whole work done no?  "
   ]
  }
 ],
 "metadata": {
  "kernelspec": {
   "display_name": "Boats",
   "language": "python",
   "name": "python3"
  },
  "language_info": {
   "name": "python",
   "version": "3.10.16"
  }
 },
 "nbformat": 4,
 "nbformat_minor": 5
}
