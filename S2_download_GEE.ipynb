{
 "cells": [
  {
   "cell_type": "raw",
   "metadata": {
    "vscode": {
     "languageId": "raw"
    }
   },
   "source": [
    "---\n",
    "title: \"GEE Environmental Covariates\"\n",
    "author:\n",
    "  - name: Scott Forrest\n",
    "    url: https://swforrest.github.io/\n",
    "    orcid: 0000-0001-9529-0108\n",
    "    affiliation: Queensland University of Technology, CSIRO\n",
    "    email: \"scottwforrest@gmail.com\"\n",
    "date: today\n",
    "format:\n",
    "    html:\n",
    "        toc: true\n",
    "        number_sections: true\n",
    "        code-fold: true # to hide the code by default, but have the option to show it\n",
    "        # code-fold: show # to show the code by default, but have the option to hide it\n",
    "        code-tools: true\n",
    "        code-summary: \"Show the code\"\n",
    "        code-overflow: scroll\n",
    "        # embed-resources: true\n",
    "        css: styles.css\n",
    "# bibliography: references.bib\n",
    "abstract: |\n",
    "  Download environmental layers using Google Earth Engine (GEE).  \n",
    "---"
   ]
  },
  {
   "cell_type": "markdown",
   "metadata": {},
   "source": [
    "# Initialise GEE"
   ]
  },
  {
   "cell_type": "code",
   "execution_count": 1,
   "metadata": {},
   "outputs": [],
   "source": [
    "import os\n",
    "import ee\n",
    "import geemap\n",
    "import json\n",
    "import requests\n",
    "\n",
    "from PIL import Image"
   ]
  },
  {
   "cell_type": "code",
   "execution_count": 4,
   "metadata": {},
   "outputs": [
    {
     "data": {
      "text/html": [
       "\n",
       "            <style>\n",
       "                .geemap-dark {\n",
       "                    --jp-widgets-color: white;\n",
       "                    --jp-widgets-label-color: white;\n",
       "                    --jp-ui-font-color1: white;\n",
       "                    --jp-layout-color2: #454545;\n",
       "                    background-color: #383838;\n",
       "                }\n",
       "\n",
       "                .geemap-dark .jupyter-button {\n",
       "                    --jp-layout-color3: #383838;\n",
       "                }\n",
       "\n",
       "                .geemap-colab {\n",
       "                    background-color: var(--colab-primary-surface-color, white);\n",
       "                }\n",
       "\n",
       "                .geemap-colab .jupyter-button {\n",
       "                    --jp-layout-color3: var(--colab-primary-surface-color, white);\n",
       "                }\n",
       "            </style>\n",
       "            "
      ],
      "text/plain": [
       "<IPython.core.display.HTML object>"
      ]
     },
     "metadata": {},
     "output_type": "display_data"
    },
    {
     "name": "stdout",
     "output_type": "stream",
     "text": [
      "Earth Engine already initialized\n"
     ]
    }
   ],
   "source": [
    "# Initialize Earth Engine\n",
    "try:\n",
    "    ee.Initialize()\n",
    "    print(\"Earth Engine already initialized\")\n",
    "except Exception as e:\n",
    "    ee.Authenticate()\n",
    "    ee.Initialize()\n",
    "    print(\"Earth Engine initialized\")"
   ]
  },
  {
   "cell_type": "markdown",
   "metadata": {},
   "source": [
    "## Plot the basemap"
   ]
  },
  {
   "cell_type": "code",
   "execution_count": 2,
   "metadata": {},
   "outputs": [
    {
     "data": {
      "text/html": [
       "\n",
       "            <style>\n",
       "                .geemap-dark {\n",
       "                    --jp-widgets-color: white;\n",
       "                    --jp-widgets-label-color: white;\n",
       "                    --jp-ui-font-color1: white;\n",
       "                    --jp-layout-color2: #454545;\n",
       "                    background-color: #383838;\n",
       "                }\n",
       "\n",
       "                .geemap-dark .jupyter-button {\n",
       "                    --jp-layout-color3: #383838;\n",
       "                }\n",
       "\n",
       "                .geemap-colab {\n",
       "                    background-color: var(--colab-primary-surface-color, white);\n",
       "                }\n",
       "\n",
       "                .geemap-colab .jupyter-button {\n",
       "                    --jp-layout-color3: var(--colab-primary-surface-color, white);\n",
       "                }\n",
       "            </style>\n",
       "            "
      ],
      "text/plain": [
       "<IPython.core.display.HTML object>"
      ]
     },
     "metadata": {},
     "output_type": "display_data"
    },
    {
     "data": {
      "application/vnd.jupyter.widget-view+json": {
       "model_id": "c5e1f4929050437391f2bd50cd9dcaa9",
       "version_major": 2,
       "version_minor": 0
      },
      "text/plain": [
       "Map(center=[0, 0], controls=(ZoomControl(options=['position', 'zoom_in_text', 'zoom_in_title', 'zoom_out_text'…"
      ]
     },
     "execution_count": 2,
     "metadata": {},
     "output_type": "execute_result"
    }
   ],
   "source": [
    "Map = geemap.Map(lite_mode=True)\n",
    "Map.add_basemap(\"SATELLITE\")\n",
    "Map"
   ]
  },
  {
   "cell_type": "markdown",
   "metadata": {},
   "source": [
    "## Import AOI"
   ]
  },
  {
   "cell_type": "code",
   "execution_count": 4,
   "metadata": {},
   "outputs": [
    {
     "data": {
      "text/html": [
       "\n",
       "            <style>\n",
       "                .geemap-dark {\n",
       "                    --jp-widgets-color: white;\n",
       "                    --jp-widgets-label-color: white;\n",
       "                    --jp-ui-font-color1: white;\n",
       "                    --jp-layout-color2: #454545;\n",
       "                    background-color: #383838;\n",
       "                }\n",
       "\n",
       "                .geemap-dark .jupyter-button {\n",
       "                    --jp-layout-color3: #383838;\n",
       "                }\n",
       "\n",
       "                .geemap-colab {\n",
       "                    background-color: var(--colab-primary-surface-color, white);\n",
       "                }\n",
       "\n",
       "                .geemap-colab .jupyter-button {\n",
       "                    --jp-layout-color3: var(--colab-primary-surface-color, white);\n",
       "                }\n",
       "            </style>\n",
       "            "
      ],
      "text/plain": [
       "<IPython.core.display.HTML object>"
      ]
     },
     "metadata": {},
     "output_type": "display_data"
    }
   ],
   "source": [
    "# Option 1: Read JSON from file\n",
    "def load_aoi_from_file(json_file_path):\n",
    "    with open(json_file_path, 'r') as f:\n",
    "        geojson = json.load(f)\n",
    "    \n",
    "    # Create an ee.Geometry from the GeoJSON\n",
    "    return ee.Geometry(geojson)"
   ]
  },
  {
   "cell_type": "code",
   "execution_count": 5,
   "metadata": {},
   "outputs": [
    {
     "data": {
      "text/html": [
       "\n",
       "            <style>\n",
       "                .geemap-dark {\n",
       "                    --jp-widgets-color: white;\n",
       "                    --jp-widgets-label-color: white;\n",
       "                    --jp-ui-font-color1: white;\n",
       "                    --jp-layout-color2: #454545;\n",
       "                    background-color: #383838;\n",
       "                }\n",
       "\n",
       "                .geemap-dark .jupyter-button {\n",
       "                    --jp-layout-color3: #383838;\n",
       "                }\n",
       "\n",
       "                .geemap-colab {\n",
       "                    background-color: var(--colab-primary-surface-color, white);\n",
       "                }\n",
       "\n",
       "                .geemap-colab .jupyter-button {\n",
       "                    --jp-layout-color3: var(--colab-primary-surface-color, white);\n",
       "                }\n",
       "            </style>\n",
       "            "
      ],
      "text/plain": [
       "<IPython.core.display.HTML object>"
      ]
     },
     "metadata": {},
     "output_type": "display_data"
    },
    {
     "data": {
      "application/vnd.jupyter.widget-view+json": {
       "model_id": "c5e1f4929050437391f2bd50cd9dcaa9",
       "version_major": 2,
       "version_minor": 0
      },
      "text/plain": [
       "Map(bottom=812.0, center=[-13.055422720179042, 134.62864547283795], controls=(ZoomControl(options=['position',…"
      ]
     },
     "execution_count": 5,
     "metadata": {},
     "output_type": "execute_result"
    }
   ],
   "source": [
    "# Option 1: Define AOI as a geometry\n",
    "# aoi = ee.Geometry.Rectangle([-122.5, 37.5, -122.0, 38.0])  # San Francisco area\n",
    "\n",
    "aoi_name = 'example'\n",
    "aoi = load_aoi_from_file(fr'C:\\Users\\for329\\OneDrive - Queensland University of Technology\\FirstByte Waterholes WD\\counting_waterholes\\data\\polygons\\{aoi_name}.geojson')\n",
    "\n",
    "# Show the AOI on map\n",
    "Map.addLayer(aoi, {}, 'Area of Interest')\n",
    "# Center the map on the AOI and zoom to it\n",
    "Map.centerObject(aoi, zoom=10)  # Adjust zoom level (1-20) as needed\n",
    "Map  # Display the map with the AOI"
   ]
  },
  {
   "cell_type": "markdown",
   "metadata": {},
   "source": [
    "# Get Sentinel-2 Collection with Cloud Masking\n",
    "This function creates a cloud mask for Sentinel-2 imagery:"
   ]
  },
  {
   "cell_type": "code",
   "execution_count": 8,
   "metadata": {},
   "outputs": [
    {
     "data": {
      "text/html": [
       "\n",
       "            <style>\n",
       "                .geemap-dark {\n",
       "                    --jp-widgets-color: white;\n",
       "                    --jp-widgets-label-color: white;\n",
       "                    --jp-ui-font-color1: white;\n",
       "                    --jp-layout-color2: #454545;\n",
       "                    background-color: #383838;\n",
       "                }\n",
       "\n",
       "                .geemap-dark .jupyter-button {\n",
       "                    --jp-layout-color3: #383838;\n",
       "                }\n",
       "\n",
       "                .geemap-colab {\n",
       "                    background-color: var(--colab-primary-surface-color, white);\n",
       "                }\n",
       "\n",
       "                .geemap-colab .jupyter-button {\n",
       "                    --jp-layout-color3: var(--colab-primary-surface-color, white);\n",
       "                }\n",
       "            </style>\n",
       "            "
      ],
      "text/plain": [
       "<IPython.core.display.HTML object>"
      ]
     },
     "metadata": {},
     "output_type": "display_data"
    }
   ],
   "source": [
    "def maskS2clouds_SCL(image):\n",
    "    \"\"\"\n",
    "    Function to mask clouds using the SCL band from Sentinel-2 L2A data.\n",
    "    SCL values:\n",
    "    1: Saturated or defective\n",
    "    2: Dark Area Pixels \n",
    "    3: Cloud Shadows\n",
    "    4: Vegetation\n",
    "    5: Bare Soils\n",
    "    6: Water\n",
    "    7: Clouds Low Probability / Unclassified\n",
    "    8: Clouds Medium Probability\n",
    "    9: Clouds High Probability\n",
    "    10: Cirrus\n",
    "    11: Snow / Ice\n",
    "    \"\"\"\n",
    "    # Get the Scene Classification Layer\n",
    "    scl = image.select('SCL')\n",
    "\n",
    "    # Create a water mask to keep water bodies (value 6 is water)\n",
    "    waterMask = scl.eq(6)\n",
    "    \n",
    "    # Keep pixels that are not clouds (values 7, 8, 9, 10) and not shadows (3)\n",
    "    # Also exclude saturated/defective pixels (1)\n",
    "    # Values to mask: 1, 3, 7, 8, 9, 10\n",
    "    cloudShadowMask  = scl.neq(1).And(scl.neq(3)).And(\n",
    "        scl.neq(8)).And(scl.neq(9)).And(scl.neq(10)) #.And(scl.neq(7)) # removed waterbodies\n",
    "    \n",
    "    # Combine masks: keep pixels that are either water OR pass the cloud/shadow mask\n",
    "    finalMask = waterMask.Or(cloudShadowMask)\n",
    "    \n",
    "    # Scale the image to 0-1 range (default is 0-10000 for SR data)\n",
    "    scaled = image.divide(10000)\n",
    "    \n",
    "    # Apply the mask\n",
    "    return scaled.updateMask(finalMask).copyProperties(image, ['system:time_start'])"
   ]
  },
  {
   "cell_type": "markdown",
   "metadata": {},
   "source": [
    "## Get Monthly Composites of Sentinel-2"
   ]
  },
  {
   "cell_type": "code",
   "execution_count": 10,
   "metadata": {},
   "outputs": [
    {
     "data": {
      "text/html": [
       "\n",
       "            <style>\n",
       "                .geemap-dark {\n",
       "                    --jp-widgets-color: white;\n",
       "                    --jp-widgets-label-color: white;\n",
       "                    --jp-ui-font-color1: white;\n",
       "                    --jp-layout-color2: #454545;\n",
       "                    background-color: #383838;\n",
       "                }\n",
       "\n",
       "                .geemap-dark .jupyter-button {\n",
       "                    --jp-layout-color3: #383838;\n",
       "                }\n",
       "\n",
       "                .geemap-colab {\n",
       "                    background-color: var(--colab-primary-surface-color, white);\n",
       "                }\n",
       "\n",
       "                .geemap-colab .jupyter-button {\n",
       "                    --jp-layout-color3: var(--colab-primary-surface-color, white);\n",
       "                }\n",
       "            </style>\n",
       "            "
      ],
      "text/plain": [
       "<IPython.core.display.HTML object>"
      ]
     },
     "metadata": {},
     "output_type": "display_data"
    }
   ],
   "source": [
    "def get_monthly_composites(start_date, end_date, aoi):\n",
    "    \"\"\"Generate monthly S2 composites for the given date range and AOI.\"\"\"\n",
    "    # Convert date strings to ee.Date objects\n",
    "    start = ee.Date(start_date)\n",
    "    end = ee.Date(end_date)\n",
    "    \n",
    "    # Get number of months\n",
    "    months = end.difference(start, 'month').round().int()\n",
    "\n",
    "    # First, check if we have any S2 data for this month (without filtering)\n",
    "    raw_collection = ee.ImageCollection('COPERNICUS/S2_SR') \\\n",
    "        .filterBounds(aoi) \\\n",
    "        .filterDate(start_date, end_date)\n",
    "    \n",
    "    raw_count = raw_collection.size().getInfo()\n",
    "    print(f\"  Found {raw_count} raw S2 images for {start_date} to {end_date}\")\n",
    "    \n",
    "    # Function to get image for a specific month\n",
    "    def get_monthly_image(month_index):\n",
    "        # Calculate current month start and end\n",
    "        current_month_start = start.advance(month_index, 'month')\n",
    "        current_month_end = current_month_start.advance(1, 'month')\n",
    "        \n",
    "        # Format dates for naming\n",
    "        date_format = current_month_start.format('YYYY-MM')\n",
    "        \n",
    "        # Get S2 collection for this month\n",
    "        s2_collection = ee.ImageCollection('COPERNICUS/S2_SR') \\\n",
    "            .filterBounds(aoi) \\\n",
    "            .filterDate(current_month_start, current_month_end) \\\n",
    "            .filter(ee.Filter.lt('CLOUDY_PIXEL_PERCENTAGE', 90)) \\\n",
    "            .map(maskS2clouds_SCL)\n",
    "        \n",
    "        # # Check if we have any images left after cloud filtering\n",
    "        # filtered_count = s2_collection.size().getInfo()\n",
    "        # print(f\"  After cloud filtering: {filtered_count} images remain\")\n",
    "        \n",
    "        # Create a median composite and clip to AOI\n",
    "        composite = s2_collection.median().clip(aoi)\n",
    "        \n",
    "        # Select RGB bands and scale for visualization\n",
    "        # Bands: B2 (blue), B3 (green), B4 (red)\n",
    "        # These get re-ordered to RGB by the image_cutting_support.create_padded_png_S2 function\n",
    "        rgb = composite.select(['B2', 'B3', 'B4'])\n",
    "        \n",
    "        return rgb.set({\n",
    "            'system:index': date_format,\n",
    "            'system:time_start': current_month_start.millis()\n",
    "        })\n",
    "    \n",
    "    # Create a list of months\n",
    "    month_indices = ee.List.sequence(0, months)\n",
    "    \n",
    "    # Map the function over the months\n",
    "    composites = ee.ImageCollection.fromImages(\n",
    "        month_indices.map(get_monthly_image)\n",
    "    )\n",
    "    \n",
    "    return composites"
   ]
  },
  {
   "cell_type": "markdown",
   "metadata": {},
   "source": [
    "# Export and Download Images"
   ]
  },
  {
   "cell_type": "code",
   "execution_count": null,
   "metadata": {},
   "outputs": [
    {
     "data": {
      "text/html": [
       "\n",
       "            <style>\n",
       "                .geemap-dark {\n",
       "                    --jp-widgets-color: white;\n",
       "                    --jp-widgets-label-color: white;\n",
       "                    --jp-ui-font-color1: white;\n",
       "                    --jp-layout-color2: #454545;\n",
       "                    background-color: #383838;\n",
       "                }\n",
       "\n",
       "                .geemap-dark .jupyter-button {\n",
       "                    --jp-layout-color3: #383838;\n",
       "                }\n",
       "\n",
       "                .geemap-colab {\n",
       "                    background-color: var(--colab-primary-surface-color, white);\n",
       "                }\n",
       "\n",
       "                .geemap-colab .jupyter-button {\n",
       "                    --jp-layout-color3: var(--colab-primary-surface-color, white);\n",
       "                }\n",
       "            </style>\n",
       "            "
      ],
      "text/plain": [
       "<IPython.core.display.HTML object>"
      ]
     },
     "metadata": {},
     "output_type": "display_data"
    }
   ],
   "source": [
    "def export_monthly_images(composites, folder_path, scale=10):\n",
    "    \"\"\"Export monthly images to local files.\"\"\"\n",
    "    # Create folder if it doesn't exist\n",
    "    os.makedirs(folder_path, exist_ok=True)\n",
    "    \n",
    "    # Get the list of images\n",
    "    image_list = composites.toList(composites.size())\n",
    "    num_images = image_list.size().getInfo()\n",
    "    \n",
    "    # Loop through each image and export\n",
    "    for i in range(num_images):\n",
    "        image = ee.Image(image_list.get(i))\n",
    "        date_str = image.get('system:index').getInfo()\n",
    "        \n",
    "        print(f\"Processing image {i+1}/{num_images} for date {date_str}...\")\n",
    "        \n",
    "        # Define output path\n",
    "        geotiff_path = os.path.join(folder_path, f'{aoi_name}_{date_str}.tif')\n",
    "        \n",
    "        # Get download URL for the GeoTIFF\n",
    "        download_url = image.getDownloadURL({\n",
    "            'scale': scale,\n",
    "            'crs': 'EPSG:4326',\n",
    "            'fileFormat': 'GeoTIFF',\n",
    "            'region': image.geometry()\n",
    "        })\n",
    "        \n",
    "        # Download the file\n",
    "        response = requests.get(download_url, stream=True)\n",
    "        response.raise_for_status()  # Raise an exception for HTTP errors\n",
    "        \n",
    "        # Save the file\n",
    "        with open(geotiff_path, 'wb') as f:\n",
    "            for chunk in response.iter_content(chunk_size=1024*1024):\n",
    "                f.write(chunk)\n",
    "        \n",
    "        print(f\"Saved GeoTIFF: {geotiff_path}\")\n",
    "\n",
    "# For larger or higher resolution images, use Google Drive export:\n",
    "def export_to_drive(composites, drive_folder='Earth_Engine_Exports', aoi_name='S2_', scale=10):\n",
    "    \"\"\"Export images to Google Drive for larger areas or higher resolution.\"\"\"\n",
    "    # Get the list of images\n",
    "    image_list = composites.toList(composites.size())\n",
    "    num_images = image_list.size().getInfo()\n",
    "    \n",
    "    # Loop through each image and export\n",
    "    for i in range(num_images):\n",
    "        image = ee.Image(image_list.get(i))\n",
    "        date_str = image.get('system:index').getInfo()\n",
    "        \n",
    "        # Create export task\n",
    "        task = ee.batch.Export.image.toDrive(\n",
    "            image=image.visualize(min=0, max=0.3, bands=['B4', 'B3', 'B2']),\n",
    "            description=f'{date_str}_{aoi_name}_S2',\n",
    "            folder=drive_folder,\n",
    "            scale=scale,\n",
    "            region=aoi.getInfo()['coordinates'],\n",
    "            maxPixels=1e9\n",
    "        )\n",
    "        \n",
    "        # Start the task\n",
    "        task.start()\n",
    "        print(f\"Started export task for {date_str}\")"
   ]
  },
  {
   "cell_type": "markdown",
   "metadata": {},
   "source": [
    "# Call functions"
   ]
  },
  {
   "cell_type": "code",
   "execution_count": 12,
   "metadata": {},
   "outputs": [
    {
     "data": {
      "text/html": [
       "\n",
       "            <style>\n",
       "                .geemap-dark {\n",
       "                    --jp-widgets-color: white;\n",
       "                    --jp-widgets-label-color: white;\n",
       "                    --jp-ui-font-color1: white;\n",
       "                    --jp-layout-color2: #454545;\n",
       "                    background-color: #383838;\n",
       "                }\n",
       "\n",
       "                .geemap-dark .jupyter-button {\n",
       "                    --jp-layout-color3: #383838;\n",
       "                }\n",
       "\n",
       "                .geemap-colab {\n",
       "                    background-color: var(--colab-primary-surface-color, white);\n",
       "                }\n",
       "\n",
       "                .geemap-colab .jupyter-button {\n",
       "                    --jp-layout-color3: var(--colab-primary-surface-color, white);\n",
       "                }\n",
       "            </style>\n",
       "            "
      ],
      "text/plain": [
       "<IPython.core.display.HTML object>"
      ]
     },
     "metadata": {},
     "output_type": "display_data"
    }
   ],
   "source": [
    "# Define parameters\n",
    "start_date = '2024-01-01'\n",
    "end_date = '2024-12-31' # the function will \n",
    "output_folder = 'sentinel2_monthly_images'"
   ]
  },
  {
   "cell_type": "code",
   "execution_count": 13,
   "metadata": {},
   "outputs": [
    {
     "data": {
      "text/html": [
       "\n",
       "            <style>\n",
       "                .geemap-dark {\n",
       "                    --jp-widgets-color: white;\n",
       "                    --jp-widgets-label-color: white;\n",
       "                    --jp-ui-font-color1: white;\n",
       "                    --jp-layout-color2: #454545;\n",
       "                    background-color: #383838;\n",
       "                }\n",
       "\n",
       "                .geemap-dark .jupyter-button {\n",
       "                    --jp-layout-color3: #383838;\n",
       "                }\n",
       "\n",
       "                .geemap-colab {\n",
       "                    background-color: var(--colab-primary-surface-color, white);\n",
       "                }\n",
       "\n",
       "                .geemap-colab .jupyter-button {\n",
       "                    --jp-layout-color3: var(--colab-primary-surface-color, white);\n",
       "                }\n",
       "            </style>\n",
       "            "
      ],
      "text/plain": [
       "<IPython.core.display.HTML object>"
      ]
     },
     "metadata": {},
     "output_type": "display_data"
    },
    {
     "name": "stdout",
     "output_type": "stream",
     "text": [
      "  Found 73 raw S2 images for 2024-01-01 to 2024-12-31\n"
     ]
    }
   ],
   "source": [
    "# Get monthly composites\n",
    "composites = get_monthly_composites(start_date, end_date, aoi)"
   ]
  },
  {
   "cell_type": "code",
   "execution_count": 14,
   "metadata": {},
   "outputs": [
    {
     "data": {
      "text/html": [
       "\n",
       "            <style>\n",
       "                .geemap-dark {\n",
       "                    --jp-widgets-color: white;\n",
       "                    --jp-widgets-label-color: white;\n",
       "                    --jp-ui-font-color1: white;\n",
       "                    --jp-layout-color2: #454545;\n",
       "                    background-color: #383838;\n",
       "                }\n",
       "\n",
       "                .geemap-dark .jupyter-button {\n",
       "                    --jp-layout-color3: #383838;\n",
       "                }\n",
       "\n",
       "                .geemap-colab {\n",
       "                    background-color: var(--colab-primary-surface-color, white);\n",
       "                }\n",
       "\n",
       "                .geemap-colab .jupyter-button {\n",
       "                    --jp-layout-color3: var(--colab-primary-surface-color, white);\n",
       "                }\n",
       "            </style>\n",
       "            "
      ],
      "text/plain": [
       "<IPython.core.display.HTML object>"
      ]
     },
     "metadata": {},
     "output_type": "display_data"
    },
    {
     "name": "stdout",
     "output_type": "stream",
     "text": [
      "Found 13 monthly composites\n",
      "Added 13 layers to the map. Use the layer control to toggle visibility.\n"
     ]
    },
    {
     "data": {
      "application/vnd.jupyter.widget-view+json": {
       "model_id": "98e1159740ba449e917fd857aeffc1f8",
       "version_major": 2,
       "version_minor": 0
      },
      "text/plain": [
       "Map(center=[-13.055422720179042, 134.62864547283795], controls=(WidgetControl(options=['position', 'transparen…"
      ]
     },
     "execution_count": 14,
     "metadata": {},
     "output_type": "execute_result"
    }
   ],
   "source": [
    "# Visualize a preview\n",
    "map2 = geemap.Map()\n",
    "map2.centerObject(aoi, 10)\n",
    "map2.addLayer(aoi, {}, 'Area of Interest')\n",
    "\n",
    "# Add the first image to the map\n",
    "first_image = ee.Image(composites.first())\n",
    "viz_params = {'bands': ['B4', 'B3', 'B2'], 'min': 0, 'max': 0.3}\n",
    "# map2.addLayer(first_image, viz_params, 'First Monthly Composite')\n",
    "# map2\n",
    "\n",
    "# Get the number of images in the collection\n",
    "count = composites.size().getInfo()\n",
    "print(f\"Found {count} monthly composites\")\n",
    "\n",
    "# Add each monthly composite to the map with its date as the layer name\n",
    "if count > 0:\n",
    "    # Convert to list for iterating\n",
    "    image_list = composites.toList(count)\n",
    "    \n",
    "    # Add each image as a separate layer\n",
    "    for i in range(count):\n",
    "        image = ee.Image(image_list.get(i))\n",
    "        date_str = image.get('system:index').getInfo()  # or 'date' if you set that property\n",
    "        \n",
    "        # Add to map - only the first layer will be visible by default\n",
    "        map2.addLayer(image, viz_params, f'S2 RGB {date_str}', shown=(i==0))\n",
    "        \n",
    "    print(f\"Added {count} layers to the map. Use the layer control to toggle visibility.\")\n",
    "else:\n",
    "    print(\"No composites available to display.\")\n",
    "\n",
    "# Add the layer control (if not already visible)\n",
    "map2.add_layer_control()\n",
    "\n",
    "# Display the map\n",
    "map2"
   ]
  },
  {
   "cell_type": "code",
   "execution_count": 15,
   "metadata": {},
   "outputs": [
    {
     "data": {
      "text/html": [
       "\n",
       "            <style>\n",
       "                .geemap-dark {\n",
       "                    --jp-widgets-color: white;\n",
       "                    --jp-widgets-label-color: white;\n",
       "                    --jp-ui-font-color1: white;\n",
       "                    --jp-layout-color2: #454545;\n",
       "                    background-color: #383838;\n",
       "                }\n",
       "\n",
       "                .geemap-dark .jupyter-button {\n",
       "                    --jp-layout-color3: #383838;\n",
       "                }\n",
       "\n",
       "                .geemap-colab {\n",
       "                    background-color: var(--colab-primary-surface-color, white);\n",
       "                }\n",
       "\n",
       "                .geemap-colab .jupyter-button {\n",
       "                    --jp-layout-color3: var(--colab-primary-surface-color, white);\n",
       "                }\n",
       "            </style>\n",
       "            "
      ],
      "text/plain": [
       "<IPython.core.display.HTML object>"
      ]
     },
     "metadata": {},
     "output_type": "display_data"
    },
    {
     "name": "stdout",
     "output_type": "stream",
     "text": [
      "AOI name:   example\n",
      "Started export task for 2024-01\n",
      "Started export task for 2024-02\n",
      "Started export task for 2024-03\n",
      "Started export task for 2024-04\n",
      "Started export task for 2024-05\n",
      "Started export task for 2024-06\n",
      "Started export task for 2024-07\n",
      "Started export task for 2024-08\n",
      "Started export task for 2024-09\n",
      "Started export task for 2024-10\n",
      "Started export task for 2024-11\n",
      "Started export task for 2024-12\n",
      "Started export task for 2025-01\n"
     ]
    }
   ],
   "source": [
    "print(f'AOI name:   {aoi_name}')\n",
    "\n",
    "# Export images locally (for small areas)\n",
    "# export_monthly_images(composites, output_folder)\n",
    "\n",
    "# Or export to Google Drive (for larger areas)\n",
    "export_to_drive(composites, drive_folder='sentinel2_images', aoi_name=aoi_name, scale=10)"
   ]
  }
 ],
 "metadata": {
  "kernelspec": {
   "display_name": "Boats",
   "language": "python",
   "name": "python3"
  },
  "language_info": {
   "codemirror_mode": {
    "name": "ipython",
    "version": 3
   },
   "file_extension": ".py",
   "mimetype": "text/x-python",
   "name": "python",
   "nbconvert_exporter": "python",
   "pygments_lexer": "ipython3",
   "version": "3.10.16"
  }
 },
 "nbformat": 4,
 "nbformat_minor": 2
}
